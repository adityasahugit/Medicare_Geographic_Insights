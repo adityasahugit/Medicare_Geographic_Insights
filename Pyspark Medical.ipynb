{
 "cells": [
  {
   "cell_type": "markdown",
   "id": "98b4c51d",
   "metadata": {},
   "source": [
    "# Healthcare Data Analysis\n",
    "# Team 5"
   ]
  },
  {
   "cell_type": "code",
   "execution_count": 1,
   "id": "88019999",
   "metadata": {},
   "outputs": [
    {
     "name": "stderr",
     "output_type": "stream",
     "text": [
      "23/11/27 17:10:27 WARN Utils: Your hostname, divyams-MacBook-Air.local resolves to a loopback address: 127.0.0.1; using 10.251.155.206 instead (on interface en0)\n",
      "23/11/27 17:10:27 WARN Utils: Set SPARK_LOCAL_IP if you need to bind to another address\n",
      "Ivy Default Cache set to: /Users/divyamsobti/.ivy2/cache\n",
      "The jars for the packages stored in: /Users/divyamsobti/.ivy2/jars\n",
      "org.apache.hadoop#hadoop-aws added as a dependency\n",
      ":: resolving dependencies :: org.apache.spark#spark-submit-parent-1ddaa426-4188-4d62-81aa-eb6247771e0c;1.0\n",
      "\tconfs: [default]\n"
     ]
    },
    {
     "name": "stdout",
     "output_type": "stream",
     "text": [
      ":: loading settings :: url = jar:file:/Library/Frameworks/Python.framework/Versions/3.11/lib/python3.11/site-packages/pyspark/jars/ivy-2.5.1.jar!/org/apache/ivy/core/settings/ivysettings.xml\n"
     ]
    },
    {
     "name": "stderr",
     "output_type": "stream",
     "text": [
      "\tfound org.apache.hadoop#hadoop-aws;3.2.0 in central\n",
      "\tfound com.amazonaws#aws-java-sdk-bundle;1.11.375 in central\n",
      "downloading https://repo1.maven.org/maven2/org/apache/hadoop/hadoop-aws/3.2.0/hadoop-aws-3.2.0.jar ...\n",
      "\t[SUCCESSFUL ] org.apache.hadoop#hadoop-aws;3.2.0!hadoop-aws.jar (78ms)\n",
      "downloading https://repo1.maven.org/maven2/com/amazonaws/aws-java-sdk-bundle/1.11.375/aws-java-sdk-bundle-1.11.375.jar ...\n",
      "\t[SUCCESSFUL ] com.amazonaws#aws-java-sdk-bundle;1.11.375!aws-java-sdk-bundle.jar (3464ms)\n",
      ":: resolution report :: resolve 969ms :: artifacts dl 3545ms\n",
      "\t:: modules in use:\n",
      "\tcom.amazonaws#aws-java-sdk-bundle;1.11.375 from central in [default]\n",
      "\torg.apache.hadoop#hadoop-aws;3.2.0 from central in [default]\n",
      "\t---------------------------------------------------------------------\n",
      "\t|                  |            modules            ||   artifacts   |\n",
      "\t|       conf       | number| search|dwnlded|evicted|| number|dwnlded|\n",
      "\t---------------------------------------------------------------------\n",
      "\t|      default     |   2   |   2   |   2   |   0   ||   2   |   2   |\n",
      "\t---------------------------------------------------------------------\n",
      ":: retrieving :: org.apache.spark#spark-submit-parent-1ddaa426-4188-4d62-81aa-eb6247771e0c\n",
      "\tconfs: [default]\n",
      "\t2 artifacts copied, 0 already retrieved (96887kB/60ms)\n",
      "23/11/27 17:10:32 WARN NativeCodeLoader: Unable to load native-hadoop library for your platform... using builtin-java classes where applicable\n",
      "Setting default log level to \"WARN\".\n",
      "To adjust logging level use sc.setLogLevel(newLevel). For SparkR, use setLogLevel(newLevel).\n"
     ]
    }
   ],
   "source": [
    "from pyspark import SparkConf\n",
    "from pyspark.sql import SparkSession\n",
    " \n",
    "conf = SparkConf()\n",
    "conf.set('spark.jars.packages', 'org.apache.hadoop:hadoop-aws:3.2.0')\n",
    "conf.set('spark.hadoop.fs.s3a.aws.credentials.provider', 'org.apache.hadoop.fs.s3a.AnonymousAWSCredentialsProvider')\n",
    " \n",
    "spark = SparkSession.builder.config(conf=conf).getOrCreate()"
   ]
  },
  {
   "cell_type": "code",
   "execution_count": 2,
   "id": "debb2f2a",
   "metadata": {},
   "outputs": [
    {
     "name": "stdout",
     "output_type": "stream",
     "text": [
      "Spark is set up correctly!\n"
     ]
    },
    {
     "name": "stderr",
     "output_type": "stream",
     "text": [
      "23/11/27 17:10:41 WARN SparkSession: Using an existing Spark session; only runtime SQL configurations will take effect.\n"
     ]
    }
   ],
   "source": [
    "import findspark\n",
    "findspark.init()\n",
    "\n",
    "from pyspark.sql import SparkSession\n",
    "\n",
    "def test_spark():\n",
    "    try:\n",
    "        spark = SparkSession.builder.appName(\"Spark Test\").getOrCreate()\n",
    "        return \"Spark is set up correctly!\"\n",
    "    except Exception as e:\n",
    "        return f\"An error occurred: {e}\"\n",
    "# Run the test\n",
    "print(test_spark())"
   ]
  },
  {
   "cell_type": "code",
   "execution_count": null,
   "id": "cf8cd1e9",
   "metadata": {},
   "outputs": [],
   "source": [
    "import findspark\n",
    "findspark.init()\n",
    "\n",
    "from pyspark.sql import SparkSession\n",
    "\n",
    "# Initialize Spark session\n",
    "spark = SparkSession.builder \\\n",
    "    .appName(\"S3 Access\") \\\n",
    "    .getOrCreate()\n",
    "\n",
    "# Configuration for S3 access\n",
    "ACCESS_KEY = \"\"\n",
    "SECRET_KEY = \"\"\n",
    "ENCODED_SECRET_KEY = SECRET_KEY.replace(\"/\", \"%2F\")\n",
    "AWS_BUCKET_NAME = \"medical-new-bucket\"\n",
    "# MOUNT_NAME = \"your_mount_name\"\n",
    "\n",
    "spark._jsc.hadoopConfiguration().set(\"fs.s3a.awsAccessKeyId\", ACCESS_KEY)\n",
    "spark._jsc.hadoopConfiguration().set(\"fs.s3a.awsSecretAccessKey\", ENCODED_SECRET_KEY)\n",
    "\n",
    "# Read CSV file from S3\n",
    "df = spark.read.csv(f\"s3a://{AWS_BUCKET_NAME}/Geo.csv\", header=True, inferSchema=True)\n",
    "df.printSchema()"
   ]
  },
  {
   "cell_type": "code",
   "execution_count": 19,
   "id": "47a8f0ed",
   "metadata": {},
   "outputs": [
    {
     "name": "stdout",
     "output_type": "stream",
     "text": [
      "root\n",
      " |-- Prscrbr_Geo_Lvl: string (nullable = true)\n",
      " |-- Prscrbr_Geo_Cd: string (nullable = true)\n",
      " |-- Prscrbr_Geo_Desc: string (nullable = true)\n",
      " |-- Brnd_Name: string (nullable = true)\n",
      " |-- Gnrc_Name: string (nullable = true)\n",
      " |-- Tot_Prscrbrs: integer (nullable = true)\n",
      " |-- Tot_Clms: integer (nullable = true)\n",
      " |-- Tot_30day_Fills: double (nullable = true)\n",
      " |-- Tot_Drug_Cst: double (nullable = true)\n",
      " |-- Tot_Benes: integer (nullable = true)\n",
      " |-- GE65_Sprsn_Flag: string (nullable = true)\n",
      " |-- GE65_Tot_Clms: integer (nullable = true)\n",
      " |-- GE65_Tot_30day_Fills: double (nullable = true)\n",
      " |-- GE65_Tot_Drug_Cst: double (nullable = true)\n",
      " |-- GE65_Bene_Sprsn_Flag: string (nullable = true)\n",
      " |-- GE65_Tot_Benes: integer (nullable = true)\n",
      " |-- LIS_Bene_Cst_Shr: double (nullable = true)\n",
      " |-- NonLIS_Bene_Cst_Shr: double (nullable = true)\n",
      " |-- Opioid_Drug_Flag: string (nullable = true)\n",
      " |-- Opioid_LA_Drug_Flag: string (nullable = true)\n",
      " |-- Antbtc_Drug_Flag: string (nullable = true)\n",
      " |-- Antpsyct_Drug_Flag: string (nullable = true)\n",
      "\n"
     ]
    }
   ],
   "source": [
    "from pyspark.sql import SparkSession\n",
    "from pyspark.sql.functions import *\n",
    "\n",
    "# Create a Spark Session\n",
    "spark = SparkSession.builder.master(\"local\").appName(\"GeoDataInspection\").getOrCreate()\n",
    "\n",
    "# Read the CSV file\n",
    "df = spark.read.csv(\"/Users/divyamsobti/Downloads/MUP_DPR_RY23_P04_V10_DY21_Geo.csv\", header=True, inferSchema=True)\n",
    "\n",
    "# Print the schema to understand the structure of the data\n",
    "df.printSchema()"
   ]
  },
  {
   "cell_type": "code",
   "execution_count": 20,
   "id": "80092e26",
   "metadata": {},
   "outputs": [
    {
     "name": "stdout",
     "output_type": "stream",
     "text": [
      "+---------------+--------------+----------------+--------------------+--------------------+------------+--------+---------------+--------------+---------+---------------+-------------+--------------------+-----------------+--------------------+--------------+----------------+-------------------+----------------+-------------------+----------------+------------------+\n",
      "|Prscrbr_Geo_Lvl|Prscrbr_Geo_Cd|Prscrbr_Geo_Desc|           Brnd_Name|           Gnrc_Name|Tot_Prscrbrs|Tot_Clms|Tot_30day_Fills|  Tot_Drug_Cst|Tot_Benes|GE65_Sprsn_Flag|GE65_Tot_Clms|GE65_Tot_30day_Fills|GE65_Tot_Drug_Cst|GE65_Bene_Sprsn_Flag|GE65_Tot_Benes|LIS_Bene_Cst_Shr|NonLIS_Bene_Cst_Shr|Opioid_Drug_Flag|Opioid_LA_Drug_Flag|Antbtc_Drug_Flag|Antpsyct_Drug_Flag|\n",
      "+---------------+--------------+----------------+--------------------+--------------------+------------+--------+---------------+--------------+---------+---------------+-------------+--------------------+-----------------+--------------------+--------------+----------------+-------------------+----------------+-------------------+----------------+------------------+\n",
      "|       National|          NULL|        National|1st Tier Unifine ...|Pen Needle, Diabetic|        1178|    3708|         6598.5|     102280.76|     1313|           NULL|         2929|              5385.3|         79992.58|                NULL|          1052|         4167.66|           22903.26|               N|                  N|               N|                 N|\n",
      "|       National|          NULL|        National|1st Tier Unifine ...|Pen Needle, Diabetic|        1604|    4564|         7905.6|     131927.33|     1766|           NULL|         3681|              6603.0|        106683.88|                NULL|          1450|         4415.22|           20335.83|               N|                  N|               N|                 N|\n",
      "|       National|          NULL|        National|            Abacavir|    Abacavir Sulfate|        3560|   30534|        37402.4|    7039482.37|     4252|           NULL|        15064|             19275.5|       3547013.16|                NULL|          2141|        21278.04|          186025.79|               N|                  N|               N|                 N|\n",
      "|       National|          NULL|        National| Abacavir-Lamivudine|Abacavir Sulfate/...|        2933|   30248|        38810.9|    9656849.77|     4030|           NULL|        16574|             22159.0|       5457642.63|                NULL|          2272|        23576.53|          376349.75|               N|                  N|               N|                 N|\n",
      "|       National|          NULL|        National|Abacavir-Lamivudi...|Abacavir/Lamivudi...|          38|     118|          120.0|      146795.2|       32|           NULL|           74|                74.0|         91779.21|                NULL|            19|         1488.48|            3939.47|               N|                  N|               N|                 N|\n",
      "|       National|          NULL|        National|             Abelcet|Amphotericin B Li...|          67|     697|          717.4|     504545.33|      199|           NULL|          441|               452.2|        303945.53|                NULL|           131|          947.12|           62103.18|               N|                  N|               N|                 N|\n",
      "|       National|          NULL|        National|             Abilify|        Aripiprazole|        2512|   15246|        19657.3| 2.046700513E7|     2172|           NULL|         4291|              5683.5|        5359083.5|                NULL|           691|        35948.95|          259326.22|               N|                  N|               N|                 Y|\n",
      "|       National|          NULL|        National|    Abilify Maintena|        Aripiprazole|       15911|  208282|       209057.7|4.9823229554E8|    26321|           NULL|        26497|             26639.0|    6.208745483E7|                NULL|          3360|       484272.75|         1162541.41|               N|                  N|               N|                 Y|\n",
      "|       National|          NULL|        National|      Abilify Mycite|        Aripiprazole|           6|      31|           33.0|       56308.8|     NULL|              *|         NULL|                NULL|             NULL|                   *|          NULL|            70.0|               60.0|               N|                  N|               N|                 Y|\n",
      "|       National|          NULL|        National| Abiraterone Acetate| Abiraterone Acetate|       10065|  199302|       203684.4|6.0118255876E8|    30507|           NULL|       192710|            197031.7|   5.7863114128E8|                NULL|         29429|       595635.61|      5.299720021E7|               N|                  N|               N|                 N|\n",
      "|       National|          NULL|        National|            Abraxane|Paclitaxel Protei...|         176|    1200|         1200.0|    9534884.71|      307|           NULL|         1147|              1147.0|       9045413.72|                NULL|           284|         1957.95|          301272.79|               N|                  N|               N|                 N|\n",
      "|       National|          NULL|        National|            Absorica|        Isotretinoin|          40|      88|           88.0|     163699.34|       35|           NULL|           22|                22.0|         33152.66|                   *|          NULL|            93.2|            3554.07|               N|                  N|               N|                 N|\n",
      "|       National|          NULL|        National|         Absorica Ld|Isotretinoin, Mic...|          12|      31|           31.0|      81264.22|       11|              *|         NULL|                NULL|             NULL|                   *|          NULL|            17.2|             796.02|               N|                  N|               N|                 N|\n",
      "|       National|          NULL|        National| Acamprosate Calcium| Acamprosate Calcium|       12086|   43332|        51649.9|    7043110.97|    13101|           NULL|        17936|             22782.4|       2954228.53|                NULL|          6018|        44092.75|          680733.73|               N|                  N|               N|                 N|\n",
      "|       National|          NULL|        National|              Acanya|Clindamycin Phos/...|          11|      29|           29.0|      15964.61|     NULL|              *|         NULL|                NULL|             NULL|                   *|          NULL|             5.3|              526.0|               N|                  N|               N|                 N|\n",
      "|       National|          NULL|        National|            Acarbose|            Acarbose|       25104|  180723|       355230.1| 1.074855929E7|    44193|           NULL|       155348|            311337.9|       9383416.55|                NULL|         38228|       101933.09|         1548408.35|               N|                  N|               N|                 N|\n",
      "|       National|          NULL|        National|            Accolate|         Zafirlukast|         121|     521|          982.3|     217404.57|      103|           NULL|          445|               845.3|        187882.45|                NULL|            89|         1384.43|           29068.45|               N|                  N|               N|                 N|\n",
      "|       National|          NULL|        National|            Accupril|       Quinapril Hcl|        1178|    4302|        10293.6|    1802400.49|     1045|           NULL|         4177|             10042.6|       1753793.23|                NULL|          1019|         3343.61|          186013.79|               N|                  N|               N|                 N|\n",
      "|       National|          NULL|        National|           Accuretic|Quinapril/Hydroch...|         125|     389|         1081.2|     162706.28|      119|              #|         NULL|                NULL|             NULL|                   #|          NULL|            39.6|           10747.72|               N|                  N|               N|                 N|\n",
      "|       National|          NULL|        National|            Accutane|        Isotretinoin|          64|     127|          127.0|      21588.69|       59|           NULL|           76|                76.0|         11607.77|                NULL|            37|           177.9|            4568.43|               N|                  N|               N|                 N|\n",
      "+---------------+--------------+----------------+--------------------+--------------------+------------+--------+---------------+--------------+---------+---------------+-------------+--------------------+-----------------+--------------------+--------------+----------------+-------------------+----------------+-------------------+----------------+------------------+\n",
      "only showing top 20 rows\n",
      "\n"
     ]
    }
   ],
   "source": [
    "# Show the first few rows of the DataFrame\n",
    "df.show()"
   ]
  },
  {
   "cell_type": "markdown",
   "id": "62b70fc6",
   "metadata": {},
   "source": [
    "## Count the number of rows in the DataFrame"
   ]
  },
  {
   "cell_type": "code",
   "execution_count": 21,
   "id": "c27b415c",
   "metadata": {},
   "outputs": [
    {
     "name": "stdout",
     "output_type": "stream",
     "text": [
      "Total rows: 114891\n"
     ]
    }
   ],
   "source": [
    "print(\"Total rows:\", df.count())"
   ]
  },
  {
   "cell_type": "markdown",
   "id": "e28fafe5",
   "metadata": {},
   "source": [
    "## Data Column Type"
   ]
  },
  {
   "cell_type": "code",
   "execution_count": 22,
   "id": "4b4e13a9",
   "metadata": {},
   "outputs": [
    {
     "name": "stdout",
     "output_type": "stream",
     "text": [
      "Column: Prscrbr_Geo_Lvl, Type: string\n",
      "Column: Prscrbr_Geo_Cd, Type: string\n",
      "Column: Prscrbr_Geo_Desc, Type: string\n",
      "Column: Brnd_Name, Type: string\n",
      "Column: Gnrc_Name, Type: string\n",
      "Column: Tot_Prscrbrs, Type: int\n",
      "Column: Tot_Clms, Type: int\n",
      "Column: Tot_30day_Fills, Type: double\n",
      "Column: Tot_Drug_Cst, Type: double\n",
      "Column: Tot_Benes, Type: int\n",
      "Column: GE65_Sprsn_Flag, Type: string\n",
      "Column: GE65_Tot_Clms, Type: int\n",
      "Column: GE65_Tot_30day_Fills, Type: double\n",
      "Column: GE65_Tot_Drug_Cst, Type: double\n",
      "Column: GE65_Bene_Sprsn_Flag, Type: string\n",
      "Column: GE65_Tot_Benes, Type: int\n",
      "Column: LIS_Bene_Cst_Shr, Type: double\n",
      "Column: NonLIS_Bene_Cst_Shr, Type: double\n",
      "Column: Opioid_Drug_Flag, Type: string\n",
      "Column: Opioid_LA_Drug_Flag, Type: string\n",
      "Column: Antbtc_Drug_Flag, Type: string\n",
      "Column: Antpsyct_Drug_Flag, Type: string\n"
     ]
    }
   ],
   "source": [
    "for column, dtype in df.dtypes:\n",
    "    print(f\"Column: {column}, Type: {dtype}\")"
   ]
  },
  {
   "cell_type": "markdown",
   "id": "d8180a8e",
   "metadata": {},
   "source": [
    "## Data Statistics"
   ]
  },
  {
   "cell_type": "code",
   "execution_count": 23,
   "id": "f2b64dd6",
   "metadata": {},
   "outputs": [
    {
     "name": "stdout",
     "output_type": "stream",
     "text": [
      "Description for Prscrbr_Geo_Lvl:\n",
      "+-------+---------------+\n",
      "|summary|Prscrbr_Geo_Lvl|\n",
      "+-------+---------------+\n",
      "|  count|         114891|\n",
      "|   mean|           NULL|\n",
      "| stddev|           NULL|\n",
      "|    min|       National|\n",
      "|    max|          State|\n",
      "+-------+---------------+\n",
      "\n",
      "\n",
      "\n",
      "Description for Prscrbr_Geo_Cd:\n",
      "+-------+------------------+\n",
      "|summary|    Prscrbr_Geo_Cd|\n",
      "+-------+------------------+\n",
      "|  count|            111324|\n",
      "|   mean| 29.79032184888437|\n",
      "| stddev|16.843006981356975|\n",
      "|    min|                01|\n",
      "|    max|                9E|\n",
      "+-------+------------------+\n",
      "\n",
      "\n",
      "\n",
      "Description for Prscrbr_Geo_Desc:\n",
      "+-------+----------------+\n",
      "|summary|Prscrbr_Geo_Desc|\n",
      "+-------+----------------+\n",
      "|  count|          114891|\n",
      "|   mean|            NULL|\n",
      "| stddev|            NULL|\n",
      "|    min|         Alabama|\n",
      "|    max|         Wyoming|\n",
      "+-------+----------------+\n",
      "\n",
      "\n",
      "\n",
      "Description for Brnd_Name:\n",
      "+-------+--------------------+\n",
      "|summary|           Brnd_Name|\n",
      "+-------+--------------------+\n",
      "|  count|              114891|\n",
      "|   mean|                NULL|\n",
      "| stddev|                NULL|\n",
      "|    min|1st Tier Unifine ...|\n",
      "|    max|               Zyvox|\n",
      "+-------+--------------------+\n",
      "\n",
      "\n",
      "\n",
      "Description for Gnrc_Name:\n",
      "+-------+--------------------+\n",
      "|summary|           Gnrc_Name|\n",
      "+-------+--------------------+\n",
      "|  count|              114891|\n",
      "|   mean|                NULL|\n",
      "| stddev|                NULL|\n",
      "|    min|0.9 % Sodium Chlo...|\n",
      "|    max|Zoster Vaccine Li...|\n",
      "+-------+--------------------+\n",
      "\n",
      "\n",
      "\n",
      "Description for Tot_Prscrbrs:\n",
      "+-------+------------------+\n",
      "|summary|      Tot_Prscrbrs|\n",
      "+-------+------------------+\n",
      "|  count|            114891|\n",
      "|   mean|1534.1800053964191|\n",
      "| stddev|13916.989033299089|\n",
      "|    min|                 1|\n",
      "|    max|            664457|\n",
      "+-------+------------------+\n",
      "\n",
      "\n",
      "\n",
      "Description for Tot_Clms:\n",
      "+-------+------------------+\n",
      "|summary|          Tot_Clms|\n",
      "+-------+------------------+\n",
      "|  count|            114891|\n",
      "|   mean|26111.256738996093|\n",
      "| stddev|437840.50617459166|\n",
      "|    min|                11|\n",
      "|    max|          61087156|\n",
      "+-------+------------------+\n",
      "\n",
      "\n",
      "\n",
      "Description for Tot_30day_Fills:\n",
      "+-------+-----------------+\n",
      "|summary|  Tot_30day_Fills|\n",
      "+-------+-----------------+\n",
      "|  count|           114891|\n",
      "|   mean|46996.95188221875|\n",
      "| stddev|927624.3177898399|\n",
      "|    min|             11.0|\n",
      "|    max|    1.471335813E8|\n",
      "+-------+-----------------+\n",
      "\n",
      "\n",
      "\n",
      "Description for Tot_Drug_Cst:\n",
      "+-------+-------------------+\n",
      "|summary|       Tot_Drug_Cst|\n",
      "+-------+-------------------+\n",
      "|  count|             114891|\n",
      "|   mean|  3750626.741139344|\n",
      "| stddev|6.149935782093059E7|\n",
      "|    min|               0.09|\n",
      "|    max|    1.2573469192E10|\n",
      "+-------+-------------------+\n",
      "\n",
      "\n",
      "\n",
      "Description for Tot_Benes:\n",
      "+-------+------------------+\n",
      "|summary|         Tot_Benes|\n",
      "+-------+------------------+\n",
      "|  count|             93001|\n",
      "|   mean| 9240.033074913174|\n",
      "| stddev|126691.15882195732|\n",
      "|    min|                11|\n",
      "|    max|          14952712|\n",
      "+-------+------------------+\n",
      "\n",
      "\n",
      "\n",
      "Description for GE65_Sprsn_Flag:\n",
      "+-------+---------------+\n",
      "|summary|GE65_Sprsn_Flag|\n",
      "+-------+---------------+\n",
      "|  count|          20831|\n",
      "|   mean|           NULL|\n",
      "| stddev|           NULL|\n",
      "|    min|              #|\n",
      "|    max|              *|\n",
      "+-------+---------------+\n",
      "\n",
      "\n",
      "\n",
      "Description for GE65_Tot_Clms:\n",
      "+-------+------------------+\n",
      "|summary|     GE65_Tot_Clms|\n",
      "+-------+------------------+\n",
      "|  count|             94060|\n",
      "|   mean|25797.131745694238|\n",
      "| stddev| 411754.4556364144|\n",
      "|    min|                 0|\n",
      "|    max|          53602221|\n",
      "+-------+------------------+\n",
      "\n",
      "\n",
      "\n",
      "Description for GE65_Tot_30day_Fills:\n",
      "+-------+--------------------+\n",
      "|summary|GE65_Tot_30day_Fills|\n",
      "+-------+--------------------+\n",
      "|  count|               94060|\n",
      "|   mean|   48481.38216138612|\n",
      "| stddev|    907836.635993602|\n",
      "|    min|                 0.0|\n",
      "|    max|       1.317778503E8|\n",
      "+-------+--------------------+\n",
      "\n",
      "\n",
      "\n",
      "Description for GE65_Tot_Drug_Cst:\n",
      "+-------+-------------------+\n",
      "|summary|  GE65_Tot_Drug_Cst|\n",
      "+-------+-------------------+\n",
      "|  count|              94060|\n",
      "|   mean|  3387090.803434078|\n",
      "| stddev|5.859691567505222E7|\n",
      "|    min|                0.0|\n",
      "|    max|    1.1801357347E10|\n",
      "+-------+-------------------+\n",
      "\n",
      "\n",
      "\n",
      "Description for GE65_Bene_Sprsn_Flag:\n",
      "+-------+--------------------+\n",
      "|summary|GE65_Bene_Sprsn_Flag|\n",
      "+-------+--------------------+\n",
      "|  count|               48620|\n",
      "|   mean|                NULL|\n",
      "| stddev|                NULL|\n",
      "|    min|                   #|\n",
      "|    max|                   *|\n",
      "+-------+--------------------+\n",
      "\n",
      "\n",
      "\n",
      "Description for GE65_Tot_Benes:\n",
      "+-------+------------------+\n",
      "|summary|    GE65_Tot_Benes|\n",
      "+-------+------------------+\n",
      "|  count|             66271|\n",
      "|   mean|10832.526021940215|\n",
      "| stddev|129650.37961485038|\n",
      "|    min|                 0|\n",
      "|    max|          13274537|\n",
      "+-------+------------------+\n",
      "\n",
      "\n",
      "\n",
      "Description for LIS_Bene_Cst_Shr:\n",
      "+-------+-----------------+\n",
      "|summary| LIS_Bene_Cst_Shr|\n",
      "+-------+-----------------+\n",
      "|  count|           114891|\n",
      "|   mean| 15379.4672529617|\n",
      "| stddev|206830.1572023374|\n",
      "|    min|              0.0|\n",
      "|    max|    2.998524438E7|\n",
      "+-------+-----------------+\n",
      "\n",
      "\n",
      "\n",
      "Description for NonLIS_Bene_Cst_Shr:\n",
      "+-------+-------------------+\n",
      "|summary|NonLIS_Bene_Cst_Shr|\n",
      "+-------+-------------------+\n",
      "|  count|             114891|\n",
      "|   mean|   295949.806808976|\n",
      "| stddev|  5185392.207329234|\n",
      "|    min|                0.0|\n",
      "|    max|     1.2886536887E9|\n",
      "+-------+-------------------+\n",
      "\n",
      "\n",
      "\n",
      "Description for Opioid_Drug_Flag:\n",
      "+-------+----------------+\n",
      "|summary|Opioid_Drug_Flag|\n",
      "+-------+----------------+\n",
      "|  count|          114891|\n",
      "|   mean|            NULL|\n",
      "| stddev|            NULL|\n",
      "|    min|               N|\n",
      "|    max|               Y|\n",
      "+-------+----------------+\n",
      "\n",
      "\n",
      "\n",
      "Description for Opioid_LA_Drug_Flag:\n",
      "+-------+-------------------+\n",
      "|summary|Opioid_LA_Drug_Flag|\n",
      "+-------+-------------------+\n",
      "|  count|             114891|\n",
      "|   mean|               NULL|\n",
      "| stddev|               NULL|\n",
      "|    min|                  N|\n",
      "|    max|                  Y|\n",
      "+-------+-------------------+\n",
      "\n",
      "\n",
      "\n",
      "Description for Antbtc_Drug_Flag:\n",
      "+-------+----------------+\n",
      "|summary|Antbtc_Drug_Flag|\n",
      "+-------+----------------+\n",
      "|  count|          114891|\n",
      "|   mean|            NULL|\n",
      "| stddev|            NULL|\n",
      "|    min|               N|\n",
      "|    max|               Y|\n",
      "+-------+----------------+\n",
      "\n",
      "\n",
      "\n",
      "Description for Antpsyct_Drug_Flag:\n",
      "+-------+------------------+\n",
      "|summary|Antpsyct_Drug_Flag|\n",
      "+-------+------------------+\n",
      "|  count|            114891|\n",
      "|   mean|              NULL|\n",
      "| stddev|              NULL|\n",
      "|    min|                 N|\n",
      "|    max|                 Y|\n",
      "+-------+------------------+\n",
      "\n",
      "\n",
      "\n"
     ]
    }
   ],
   "source": [
    "import pandas as pd\n",
    "for column in df.columns:\n",
    "    print(f\"Description for {column}:\")\n",
    "    df.select(column).describe().show()\n",
    "    print(\"\\n\")"
   ]
  },
  {
   "cell_type": "markdown",
   "id": "8fb3419e",
   "metadata": {},
   "source": [
    "## Checking for missing values in each column\n"
   ]
  },
  {
   "cell_type": "code",
   "execution_count": 24,
   "id": "e9421217",
   "metadata": {},
   "outputs": [
    {
     "name": "stdout",
     "output_type": "stream",
     "text": [
      "Column Prscrbr_Geo_Cd has 3567 missing values\n",
      "Column Tot_Benes has 21890 missing values\n",
      "Column GE65_Sprsn_Flag has 94060 missing values\n",
      "Column GE65_Tot_Clms has 20831 missing values\n",
      "Column GE65_Tot_30day_Fills has 20831 missing values\n",
      "Column GE65_Tot_Drug_Cst has 20831 missing values\n",
      "Column GE65_Bene_Sprsn_Flag has 66271 missing values\n",
      "Column GE65_Tot_Benes has 48620 missing values\n"
     ]
    }
   ],
   "source": [
    "for column in df.columns:\n",
    "    missing_count = df.filter(df[column].isNull() | isnan(df[column])).count()\n",
    "    if missing_count > 0:\n",
    "        print(f\"Column {column} has {missing_count} missing values\")"
   ]
  },
  {
   "cell_type": "markdown",
   "id": "e1f66925",
   "metadata": {},
   "source": [
    "## Dropping columns with major missing values"
   ]
  },
  {
   "cell_type": "code",
   "execution_count": 25,
   "id": "a3eee5bd",
   "metadata": {},
   "outputs": [],
   "source": [
    "df = df.drop('GE65_Sprsn_Flag', 'GE65_Bene_Sprsn_Flag','GE65_Tot_Benes')"
   ]
  },
  {
   "cell_type": "markdown",
   "id": "f4034dff",
   "metadata": {},
   "source": [
    "## Handling Missing Data"
   ]
  },
  {
   "cell_type": "code",
   "execution_count": 26,
   "id": "a1984f0f",
   "metadata": {},
   "outputs": [
    {
     "name": "stdout",
     "output_type": "stream",
     "text": [
      "+---------------+--------------+----------------+--------------------+--------------------+------------+--------+---------------+--------------+---------+-------------+--------------------+-----------------+----------------+-------------------+----------------+-------------------+----------------+------------------+\n",
      "|Prscrbr_Geo_Lvl|Prscrbr_Geo_Cd|Prscrbr_Geo_Desc|           Brnd_Name|           Gnrc_Name|Tot_Prscrbrs|Tot_Clms|Tot_30day_Fills|  Tot_Drug_Cst|Tot_Benes|GE65_Tot_Clms|GE65_Tot_30day_Fills|GE65_Tot_Drug_Cst|LIS_Bene_Cst_Shr|NonLIS_Bene_Cst_Shr|Opioid_Drug_Flag|Opioid_LA_Drug_Flag|Antbtc_Drug_Flag|Antpsyct_Drug_Flag|\n",
      "+---------------+--------------+----------------+--------------------+--------------------+------------+--------+---------------+--------------+---------+-------------+--------------------+-----------------+----------------+-------------------+----------------+-------------------+----------------+------------------+\n",
      "|       National|       Unknown|        National|1st Tier Unifine ...|Pen Needle, Diabetic|        1178|    3708|         6598.5|     102280.76|     1313|         2929|              5385.3|         79992.58|         4167.66|           22903.26|               N|                  N|               N|                 N|\n",
      "|       National|       Unknown|        National|1st Tier Unifine ...|Pen Needle, Diabetic|        1604|    4564|         7905.6|     131927.33|     1766|         3681|              6603.0|        106683.88|         4415.22|           20335.83|               N|                  N|               N|                 N|\n",
      "|       National|       Unknown|        National|            Abacavir|    Abacavir Sulfate|        3560|   30534|        37402.4|    7039482.37|     4252|        15064|             19275.5|       3547013.16|        21278.04|          186025.79|               N|                  N|               N|                 N|\n",
      "|       National|       Unknown|        National| Abacavir-Lamivudine|Abacavir Sulfate/...|        2933|   30248|        38810.9|    9656849.77|     4030|        16574|             22159.0|       5457642.63|        23576.53|          376349.75|               N|                  N|               N|                 N|\n",
      "|       National|       Unknown|        National|Abacavir-Lamivudi...|Abacavir/Lamivudi...|          38|     118|          120.0|      146795.2|       32|           74|                74.0|         91779.21|         1488.48|            3939.47|               N|                  N|               N|                 N|\n",
      "|       National|       Unknown|        National|             Abelcet|Amphotericin B Li...|          67|     697|          717.4|     504545.33|      199|          441|               452.2|        303945.53|          947.12|           62103.18|               N|                  N|               N|                 N|\n",
      "|       National|       Unknown|        National|             Abilify|        Aripiprazole|        2512|   15246|        19657.3| 2.046700513E7|     2172|         4291|              5683.5|        5359083.5|        35948.95|          259326.22|               N|                  N|               N|                 Y|\n",
      "|       National|       Unknown|        National|    Abilify Maintena|        Aripiprazole|       15911|  208282|       209057.7|4.9823229554E8|    26321|        26497|             26639.0|    6.208745483E7|       484272.75|         1162541.41|               N|                  N|               N|                 Y|\n",
      "|       National|       Unknown|        National|      Abilify Mycite|        Aripiprazole|           6|      31|           33.0|       56308.8|     9240|        25797|   48481.38216138612|3387090.803434078|            70.0|               60.0|               N|                  N|               N|                 Y|\n",
      "|       National|       Unknown|        National| Abiraterone Acetate| Abiraterone Acetate|       10065|  199302|       203684.4|6.0118255876E8|    30507|       192710|            197031.7|   5.7863114128E8|       595635.61|      5.299720021E7|               N|                  N|               N|                 N|\n",
      "|       National|       Unknown|        National|            Abraxane|Paclitaxel Protei...|         176|    1200|         1200.0|    9534884.71|      307|         1147|              1147.0|       9045413.72|         1957.95|          301272.79|               N|                  N|               N|                 N|\n",
      "|       National|       Unknown|        National|            Absorica|        Isotretinoin|          40|      88|           88.0|     163699.34|       35|           22|                22.0|         33152.66|            93.2|            3554.07|               N|                  N|               N|                 N|\n",
      "|       National|       Unknown|        National|         Absorica Ld|Isotretinoin, Mic...|          12|      31|           31.0|      81264.22|       11|        25797|   48481.38216138612|3387090.803434078|            17.2|             796.02|               N|                  N|               N|                 N|\n",
      "|       National|       Unknown|        National| Acamprosate Calcium| Acamprosate Calcium|       12086|   43332|        51649.9|    7043110.97|    13101|        17936|             22782.4|       2954228.53|        44092.75|          680733.73|               N|                  N|               N|                 N|\n",
      "|       National|       Unknown|        National|              Acanya|Clindamycin Phos/...|          11|      29|           29.0|      15964.61|     9240|        25797|   48481.38216138612|3387090.803434078|             5.3|              526.0|               N|                  N|               N|                 N|\n",
      "|       National|       Unknown|        National|            Acarbose|            Acarbose|       25104|  180723|       355230.1| 1.074855929E7|    44193|       155348|            311337.9|       9383416.55|       101933.09|         1548408.35|               N|                  N|               N|                 N|\n",
      "|       National|       Unknown|        National|            Accolate|         Zafirlukast|         121|     521|          982.3|     217404.57|      103|          445|               845.3|        187882.45|         1384.43|           29068.45|               N|                  N|               N|                 N|\n",
      "|       National|       Unknown|        National|            Accupril|       Quinapril Hcl|        1178|    4302|        10293.6|    1802400.49|     1045|         4177|             10042.6|       1753793.23|         3343.61|          186013.79|               N|                  N|               N|                 N|\n",
      "|       National|       Unknown|        National|           Accuretic|Quinapril/Hydroch...|         125|     389|         1081.2|     162706.28|      119|        25797|   48481.38216138612|3387090.803434078|            39.6|           10747.72|               N|                  N|               N|                 N|\n",
      "|       National|       Unknown|        National|            Accutane|        Isotretinoin|          64|     127|          127.0|      21588.69|       59|           76|                76.0|         11607.77|           177.9|            4568.43|               N|                  N|               N|                 N|\n",
      "+---------------+--------------+----------------+--------------------+--------------------+------------+--------+---------------+--------------+---------+-------------+--------------------+-----------------+----------------+-------------------+----------------+-------------------+----------------+------------------+\n",
      "only showing top 20 rows\n",
      "\n"
     ]
    }
   ],
   "source": [
    "# Filling missing values in 'Prscrbr_Geo_Cd' with a placeholder\n",
    "df = df.fillna({'Prscrbr_Geo_Cd': 'Unknown'})\n",
    "\n",
    "# For numeric columns, calculate the mean and fill missing values\n",
    "mean_values = df.select([mean(c).alias(c) for c in ['Tot_Benes', 'GE65_Tot_Clms', 'GE65_Tot_30day_Fills', 'GE65_Tot_Drug_Cst']]).collect()[0].asDict()\n",
    "\n",
    "df = df.na.fill(mean_values)\n",
    "\n",
    "# Show the updated DataFrame\n",
    "df.show()"
   ]
  },
  {
   "cell_type": "code",
   "execution_count": null,
   "id": "b0b59173",
   "metadata": {},
   "outputs": [],
   "source": [
    "df.write.csv(\"new.csv\",header=True)"
   ]
  },
  {
   "cell_type": "code",
   "execution_count": 28,
   "id": "7e67612b",
   "metadata": {},
   "outputs": [],
   "source": [
    "df.write.option(\"header\",True).csv(\"zipcodes\")"
   ]
  },
  {
   "cell_type": "code",
   "execution_count": 29,
   "id": "f684df65",
   "metadata": {},
   "outputs": [],
   "source": [
    "df.write.csv(\"/tmp/spark_output/zipcodes\")"
   ]
  }
 ],
 "metadata": {
  "kernelspec": {
   "display_name": "Python 3 (ipykernel)",
   "language": "python",
   "name": "python3"
  },
  "language_info": {
   "codemirror_mode": {
    "name": "ipython",
    "version": 3
   },
   "file_extension": ".py",
   "mimetype": "text/x-python",
   "name": "python",
   "nbconvert_exporter": "python",
   "pygments_lexer": "ipython3",
   "version": "3.11.5"
  }
 },
 "nbformat": 4,
 "nbformat_minor": 5
}
